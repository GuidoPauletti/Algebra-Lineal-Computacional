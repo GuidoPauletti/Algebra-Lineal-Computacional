{
 "cells": [
  {
   "cell_type": "markdown",
   "metadata": {},
   "source": [
    "# **Trabajo Practico Numero 1**"
   ]
  },
  {
   "cell_type": "markdown",
   "metadata": {},
   "source": [
    "**Antes que nada**:</br> $para$ $los$ $ejercicios$ $seran$ $necesarias$ $las$ $librerias$ **numpy**, **scipy** $y$ **matplotlib**, </br>$por$ $lo$ $tanto$, $las$ $importamos$"
   ]
  },
  {
   "cell_type": "code",
   "execution_count": 12,
   "metadata": {},
   "outputs": [],
   "source": [
    "import numpy as np\n",
    "import matplotlib.pyplot as plt\n",
    "import scipy as sp"
   ]
  },
  {
   "cell_type": "markdown",
   "metadata": {},
   "source": [
    "## Ejercicio 1"
   ]
  },
  {
   "cell_type": "markdown",
   "metadata": {},
   "source": [
    "Dada una matriz A $\\in\\mathbb{R}^{n \\times n}$, devuelve las dos matrices L y U de la descomposición A = LU."
   ]
  },
  {
   "cell_type": "code",
   "execution_count": 3,
   "metadata": {},
   "outputs": [],
   "source": [
    "def descompLU(A):\n",
    "    '''\n",
    "    Parametro: matriz A perteneciente a R^n*n.\n",
    "    Retorna: Las dos matrices de descomposicion LU = A\n",
    "    '''\n",
    "    n = A.shape[0] \n",
    "\n",
    "    if not np.diag(A).all():\n",
    "        print('Error: Hay por lo menos un cero en la diagonal')\n",
    "        identidad = np.eye(n)\n",
    "        return (identidad,A)\n",
    "\n",
    "    if n == 1:\n",
    "        L = 1\n",
    "        U = A[0,0]\n",
    "        return (L, U)\n",
    "\n",
    "    U = np.zeros_like(A) \n",
    "    U[0,:] = A[0,:] # Primer fila de U es igual a primer fila de A\n",
    "\n",
    "    L = np.eye(n)\n",
    "    L[1:, 0] = A[1:,0] / U[0,0] #L_21\n",
    "\n",
    "    matriz_recursiva = A[1:,1:] - np.dot(L[1:, 0].reshape(n-1,1), U[0,1:].reshape(1,n-1))\n",
    "\n",
    "    L_22, U_22 = descompLU(matriz_recursiva)\n",
    "    L[1:,1:] = L_22 \n",
    "    U[1:,1:] = U_22 \n",
    "    \n",
    "    return (L,U)"
   ]
  },
  {
   "cell_type": "code",
   "execution_count": 20,
   "metadata": {},
   "outputs": [
    {
     "name": "stdout",
     "output_type": "stream",
     "text": [
      "Matriz L:\n",
      "[[1.         0.         0.         0.        ]\n",
      " [0.5        1.         0.         0.        ]\n",
      " [1.         0.53333333 1.         0.        ]\n",
      " [1.5        0.6        0.77777778 1.        ]]\n",
      "\n",
      "Matriz U:\n",
      "[[4 3 2 1]\n",
      " [0 7 6 4]\n",
      " [0 0 1 4]\n",
      " [0 0 0 1]]\n",
      "\n",
      "Matriz L*U:\n",
      " [[4.         3.         2.         1.        ]\n",
      " [2.         8.5        7.         4.5       ]\n",
      " [4.         6.73333333 6.2        7.13333333]\n",
      " [6.         8.7        7.37777778 8.01111111]]\n"
     ]
    }
   ],
   "source": [
    "# Ejemplo de uso\n",
    "A = np.array([[4, 3, 2, 1],\n",
    "              [2, 9, 7, 5],\n",
    "              [4, 7, 7, 8],\n",
    "              [6, 9, 8, 9]])\n",
    "\n",
    "\n",
    "L, U = descompLU(A)\n",
    "print(\"Matriz L:\")\n",
    "print(L)\n",
    "print(\"\\nMatriz U:\")\n",
    "print(U)\n",
    "\n",
    "print(\"\\nMatriz L*U:\\n\", np.dot(L,U))"
   ]
  },
  {
   "cell_type": "markdown",
   "metadata": {},
   "source": [
    "## Ejercicio 3"
   ]
  },
  {
   "cell_type": "code",
   "execution_count": 4,
   "metadata": {},
   "outputs": [],
   "source": [
    "def resolverLU(A, b):\n",
    "    '''\n",
    "    Parametros:\n",
    "        *matriz A n*n\n",
    "        *vector b de n elementos\n",
    "    Retorna:\n",
    "        *x vector solucion de la ecuación Ax = b\n",
    "    '''\n",
    "\n",
    "    #Obtenemos L y U haciendo uso del ejercicio 1\n",
    "    L, U = descompLU(A)\n",
    "\n",
    "    #Resuelvo la ecuacion Ly = b especificada en la consigna\n",
    "    y = sp.linalg.solve_triangular(L, b)\n",
    "\n",
    "    #Con (y) puedo obtener la solucion a la ecuación Ux = y\n",
    "    x = sp.linalg.solve_triangular(U, y)\n",
    "\n",
    "    return x\n"
   ]
  },
  {
   "cell_type": "code",
   "execution_count": 19,
   "metadata": {},
   "outputs": [
    {
     "name": "stdout",
     "output_type": "stream",
     "text": [
      "[ 4.         18.71428571  4.71428571 19.42857143]\n"
     ]
    }
   ],
   "source": [
    "# Ejemplo de uso\n",
    "A = np.array([[4, 3, 2, 1],\n",
    "              [2, 9, 7, 5],\n",
    "              [4, 7, 7, 8],\n",
    "              [6, 9, 8, 9]])\n",
    "\n",
    "b = np.array([4,4,7,8])\n",
    "\n",
    "x = resolverLU(A, b)\n",
    "print(A@x)"
   ]
  },
  {
   "cell_type": "markdown",
   "metadata": {},
   "source": [
    "## Ejercicio 5"
   ]
  },
  {
   "cell_type": "code",
   "execution_count": 5,
   "metadata": {},
   "outputs": [],
   "source": [
    "def inversa(A):\n",
    "    L = descompLU(A)[0]\n",
    "    U = descompLU(A)[1]\n",
    "    #Matriz identidad del tamaño de A.\n",
    "    I= np.eye(len(A))\n",
    "    i=0\n",
    "    #Creamos una matriz Ainversa de 0s del mismo tamaño que A.\n",
    "    Ainversa = np.zeros((len(A),len(A[0])))\n",
    "    #Cada fila de Ainversa es igual a Aei.\n",
    "    while i < len(I):\n",
    "        #Resolvemos Ly=ei\n",
    "        y = sp.linalg.solve_triangular(L,I[i], lower=True)\n",
    "        #Resolvemos Ux=y\n",
    "        x = sp.linalg.solve_triangular(U,y, lower=False)\n",
    "        Ainversa[i] = x\n",
    "        i = i+1\n",
    "    #Devuelve la trnaspuesta de Ainversa (para que Aei sea cada columna).\n",
    "    return(np.transpose(Ainversa))\n",
    "        \n"
   ]
  },
  {
   "cell_type": "markdown",
   "metadata": {},
   "source": [
    "## Ejercicio 6"
   ]
  },
  {
   "cell_type": "code",
   "execution_count": 9,
   "metadata": {},
   "outputs": [
    {
     "data": {
      "text/plain": [
       "1.3851116826454064e-14"
      ]
     },
     "execution_count": 9,
     "metadata": {},
     "output_type": "execute_result"
    }
   ],
   "source": [
    "# Obtengo una matriz generada aleatoriamente\n",
    "Al = np.random.rand(10,10)\n",
    "\n",
    "# Obtengo la matriz inversa usando la funcion del Ej. 5\n",
    "inv_Al = inversa(Al)\n",
    "\n",
    "# Obtengo el producto entre ambas matrices obtenidas\n",
    "producto = np.dot(inv_Al, Al)\n",
    "\n",
    "# Calculo el error en norma Frobenius\n",
    "diferencia = producto - np.eye(len(producto)) #Obtengo la matriz para calcularle la norma Frobenius\n",
    "\n",
    "# Calculo el radicando: sumo los cuadrados de la diagonal de la matriz diferencia\n",
    "radicando = 0\n",
    "for i in range (len(diferencia)):\n",
    "    radicando = radicando + diferencia[i,i]**2\n",
    "\n",
    "# Finalmente obtengo la raiz del radicando, obteniendo así el error\n",
    "error_frobenius = np.sqrt(radicando)\n",
    "\n",
    "error_frobenius"
   ]
  },
  {
   "cell_type": "markdown",
   "metadata": {},
   "source": [
    "## Ejercicio 7"
   ]
  },
  {
   "cell_type": "code",
   "execution_count": 14,
   "metadata": {},
   "outputs": [],
   "source": [
    "def errorRelativo (A,x,b):\n",
    "    e = np.linalg.norm(A@x-b, ord=2)/np.linalg.norm(b, ord=2)\n",
    "    return(np.log(e))"
   ]
  },
  {
   "cell_type": "code",
   "execution_count": 7,
   "metadata": {},
   "outputs": [],
   "source": [
    "def generar_random(n, matrix=True):\n",
    "    '''\n",
    "    n: Numero entero\n",
    "    matrix: Booleano, en caso de ser True la funcion devuelve una matriz de n*n\n",
    "            con numeros aleatorios pertenecientes a [-1,1).\n",
    "            En caso de ser False, la funcion devuelve un vector de n elementos,\n",
    "            todos pertenecientes a [-1,1). Valor por defecto = True\n",
    "    '''\n",
    "\n",
    "    if matrix:\n",
    "        # Genero matriz aleatoria de 200*200\n",
    "        A_positiva = np.random.rand(n,n)\n",
    "        # Matriz de tamaño nxn de números aleatorios en [-1,0)\n",
    "        A_negativa = np.random.rand(n,n) - np.ones((n,n))\n",
    "        # Matriz de tamaño nxn de números aleatorios en [-1,1)\n",
    "        return A_positiva + A_negativa\n",
    "        \n",
    "    else:\n",
    "        # Genero vector aleatorio\n",
    "        x_positivo = np.random.rand(n)\n",
    "        x_negativo = np.random.rand(n) - np.ones(n)\n",
    "        return x_positivo + x_negativo"
   ]
  },
  {
   "cell_type": "code",
   "execution_count": 8,
   "metadata": {},
   "outputs": [],
   "source": [
    "def error_matriz_i(i):\n",
    "    '''\n",
    "    Parametro: i: Numero entero \n",
    "    Retorna: Tupla conteniendo el error relativo de la solucion al sistema Ax = b (generado aleatoriamente)\n",
    "             , al resolverlo de dos maneras distintas.\n",
    "             Siendo A una matriz cuadrada en reales con i filas, y b un vector en reales con i elementos\n",
    "            \n",
    "    '''\n",
    "    ln_error_relativo_x1 = 0\n",
    "    ln_error_relativo_x2 = 0\n",
    "\n",
    "    for n in range(10):\n",
    "\n",
    "        A = generar_random(i)\n",
    "\n",
    "        x = generar_random(i, matrix=False)\n",
    "\n",
    "        # Defino b\n",
    "        b = np.dot(A,x)\n",
    "\n",
    "        # Calculo la solucion al sistema Ax = b usando la funcion del Ejercicio 3\n",
    "        x1 = resolverLU(A,b)\n",
    "        # Obtengo el error relativo\n",
    "        ln_error_relativo_x1 = ln_error_relativo_x1 + errorRelativo(A,x1,b)\n",
    "\n",
    "        # Calculo x2 = inv(A)b\n",
    "        x2 = np.dot(inversa(A),b)\n",
    "        # Obtengo el error relativo\n",
    "        ln_error_relativo_x2 = ln_error_relativo_x2 + errorRelativo(A,x2,b)\n",
    "\n",
    "    # Devuelvo una tupla conteniendo ambos errores relativos\n",
    "    return (ln_error_relativo_x1,ln_error_relativo_x2)\n"
   ]
  },
  {
   "cell_type": "code",
   "execution_count": 15,
   "metadata": {},
   "outputs": [],
   "source": [
    "def obtener_vectores():\n",
    "    # Inicializo dos listas vacias para luego llenarlas con los elementos de los vectores finaless\n",
    "    vector1, vector2 = [], []\n",
    "\n",
    "    for i in range(10,201):\n",
    "        # Obtengo la suma de los logaritmos de los errores relativos\n",
    "        sumar1, sumar2 = error_matriz_i(i) \n",
    "\n",
    "        # Agrego los errores relativos en las listas correspondientes\n",
    "        vector1.append(sumar1) \n",
    "        vector2.append(sumar2)\n",
    "\n",
    "    # Creo los vectores con los elementos de las listas\n",
    "    v1 = np.array(vector1)\n",
    "    v2 = np.array(vector2)\n",
    "\n",
    "    return (v1,v2)\n"
   ]
  },
  {
   "cell_type": "code",
   "execution_count": 16,
   "metadata": {},
   "outputs": [
    {
     "data": {
      "image/png": "[encoded data removed]",
      "text/plain": [
       "<Figure size 640x480 with 1 Axes>"
      ]
     },
     "metadata": {},
     "output_type": "display_data"
    }
   ],
   "source": [
    "v1, v2 = obtener_vectores()\n",
    "\n",
    "n = np.arange(10,len(v1))\n",
    "plt.plot(n,v1[10:], label='Resolver (LU)x=b')\n",
    "plt.plot(n,v2[10:], label='x = Inversa(A)*b')\n",
    "plt.title('Errores relativos ||Ax-b||/||b||')\n",
    "plt.legend()\n",
    "plt.show()"
   ]
  }
 ],
 "metadata": {
  "kernelspec": {
   "display_name": "venv",
   "language": "python",
   "name": "python3"
  },
  "language_info": {
   "codemirror_mode": {
    "name": "ipython",
    "version": 3
   },
   "file_extension": ".py",
   "mimetype": "text/x-python",
   "name": "python",
   "nbconvert_exporter": "python",
   "pygments_lexer": "ipython3",
   "version": "3.11.0"
  },
  "orig_nbformat": 4
 },
 "nbformat": 4,
 "nbformat_minor": 2
}
