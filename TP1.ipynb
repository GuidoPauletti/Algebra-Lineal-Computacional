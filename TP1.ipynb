{
 "cells": [
  {
   "cell_type": "markdown",
   "metadata": {},
   "source": [
    "# **Trabajo Practico Numero 1**"
   ]
  },
  {
   "cell_type": "markdown",
   "metadata": {},
   "source": [
    "**Antes que nada**:</br> $para$ $los$ $ejercicios$ $seran$ $necesarias$ $las$ $librerias$ **numpy**, **scipy** $y$ **matplotlib**, </br>$por$ $lo$ $tanto$, $las$ $importamos$"
   ]
  },
  {
   "cell_type": "code",
   "execution_count": 8,
   "metadata": {},
   "outputs": [],
   "source": [
    "import numpy as np\n",
    "import matplotlib as plt\n",
    "import scipy as sp"
   ]
  },
  {
   "cell_type": "markdown",
   "metadata": {},
   "source": [
    "## Ejercicio 1"
   ]
  },
  {
   "cell_type": "markdown",
   "metadata": {},
   "source": [
    "Dada una matriz A $\\in \\mathbb R ^{n \\times n}$, devuelve las dos matrices L y U de la descomposición A = LU."
   ]
  },
  {
   "cell_type": "code",
   "execution_count": 9,
   "metadata": {},
   "outputs": [],
   "source": [
   "def descompLU(A):\n",
   "#Si hay algún 0 en la diagonal de A, imprime un mensaje de error y devuelve las matrices In y A. \n",
   "for p in range (0,len(A)): \n",
   "     if A[p][p]==0: \n",
   "         I = np.eye(len(A)) \n",
   "         return ('error, In= ', I , 'A= ', A) \n",
   "#Creamos 2 matrices de 0s L y U del mismo tamaño que A. \n",
   "L=np.zeros((len(A),len(A[0]))) \n",
   "U=np.zeros((len(A),len(A[0]))) \n\n",
   "for i in range(0,len(A)): \n",
   "#La diagional de L es toda de 1s. \n",
   "    L[i][i]=1 \n",
   "    j=0 \n",
   "    m=i \n",
   "#Genera recursivamente los valores de L por debajo de la diagonal en la fila i. \n",
   "    while j < i: \n",
   "         L[i][j] = A[i][j]/U[j][j] \n",
   "         k=0 \n",
   "         while k < j: \n",
   "             L[i][j]=L[i][j]-(L[i][k]*U[k][j]/U[j][j]) \n",
   "             k=k+1 \n",
   "         j=j+1 \n",
   "#Genera recursivamente los valores de U que no son 0 en la fila i. \n",
   "     while m<len(A):\n",
   "         U[i][m] = A[i][m] \n",
   "         n=0 \n",
   "         while n < i: \n",
   "             U[i][m]=U[i][m]-L[i][n]*U[n][m] \n",
   "             n=n+1 \n",
   "         m=m+1 \n",
   "return(L,U) \n"
   ]
  },
  {
   "cell_type": "markdown",
   "metadata": {},
   "source": [
    "Chequeamos la función con 2 ejemplos."
   ]
  },
  {
   "cell_type": "code",
   "execution_count": 10,
   "metadata": {},
   "outputs": [
    {
     "name": "stdout",
     "output_type": "stream",
     "text": [
      "Matriz L de A:\n",
      "[[1.        , 0.        , 0.        , 0.        ] \n",
      " [0.5       , 1.        , 0.        , 0.        ] \n",
      " [1.        , 0.53333333, 1.        , 0.        ] \n",
      " [1.5       , 0.6       , 0.77777778, 1.        ]] \n",
      "\n",
      "Matriz U de A:\n",
      "[[4.        , 3.        , 2.        , 1.        ] \n",
      " [0.        , 7.5       , 6.        , 4.5       ] \n",
      " [0.        , 0.        , 1.8       , 4.6       ] \n",
      " [0.        , 0.        , 0.        , 1.22222222]] \n",
      "\n",
      "Matriz LU de A:\n",
      "[[4., 3., 2., 1.] \n",
      " [2., 9., 7., 5.] \n",
      " [4., 7., 7., 8.] \n",
      " [6., 9., 8., 9.]] \n",
      "\n",
      "Matriz LU de B:\n",
      "('error, In= ',\n",
      " array([[1., 0.],\n",
      "       [0., 1.]]),\n",
      " 'A= ',\n",
      " array([[0, 1],\n",
      "        [1, 2]]))\n"
     ]
    }
   ],
   "source": [
    "A = np.array([[4, 3, 2, 1],\n",
    "              [2, 9, 7, 5],\n",
    "              [4, 7, 7, 8],\n",
    "              [6, 9, 8, 9]])\n",
    "\n",
    "B= np.array([[0,1],[1,2]]),\n",
    "\n",
    "L, U = descompLU(A)\n",
    "print(\"Matriz L de A:\")\n",
    "print(L)\n",
    "print(\"\\nMatriz U de A:\")\n",
    "print(U)\n",
    "\n",
    "print(\"\\nMatriz LU de A:\\n\", L@U) \n",
    "print(\"\\nMatriz LU de B:\\n\", descompLU(B))"
   ]
  },
  {
   "cell_type": "markdown",
   "metadata": {},
   "source": [
    "## Ejercicio 3"
   ]
  },
  {
   "cell_type": "code",
   "execution_count": 11,
   "metadata": {},
   "outputs": [],
   "source": [
    "def resolverLU(A, b):\n",
    "    '''\n",
    "    Parametros:\n",
    "        *matriz A n*n\n",
    "        *vector b de n elementos\n",
    "    Retorna:\n",
    "        *x vector solucion de la ecuación Ax = b\n",
    "    '''\n",
    "\n",
    "    #Obtenemos L y U haciendo uso del ejercicio 1\n",
    "    L, U = descompLU(A)\n",
    "\n",
    "    #Resuelvo la ecuacion Ly = b especificada en la consigna\n",
    "    y = sp.linalg.solve_triangular(L, b)\n",
    "\n",
    "    #Con (y) puedo obtener la solucion a la ecuación Ux = y\n",
    "    x = sp.linalg.solve_triangular(U, y)\n",
    "\n",
    "    return x\n"
   ]
  },
  {
   "cell_type": "code",
   "execution_count": 12,
   "metadata": {},
   "outputs": [
    {
     "name": "stdout",
     "output_type": "stream",
     "text": [
      "[ -0.625 -10.5    23.     -8.   ]\n"
     ]
    }
   ],
   "source": [
    "# Ejemplo de uso\n",
    "A = np.array([[4, 3, 2, 1],\n",
    "              [2, 9, 7, 5],\n",
    "              [4, 7, 7, 8],\n",
    "              [6, 9, 8, 9]])\n",
    "\n",
    "b = np.array([4,4,7,8])\n",
    "\n",
    "x = resolverLU(A, b)\n",
    "print(x)"
   ]
  },
  {
   "cell_type": "markdown",
   "metadata": {},
   "source": [
    "## Ejercicio 5"
   ]
  },
  {
   "cell_type": "code",
   "execution_count": 13,
   "metadata": {},
   "outputs": [],
   "source": [
    "def inversa(A):\n",
    "    '''\n",
    "    Parametro: matriz A n*n\n",
    "    Retorna: matriz inversa de A\n",
    "    '''\n",
    "\n",
    "    #Guardamos el numero de filas de A en una variable n\n",
    "    #Obs: n tambien es el numero de columnas, pues A es cuadrada\n",
    "    n = A.shape[0]\n",
    "\n",
    "    #Paso 1: Descomponemos A en LU\n",
    "    L, U = descompLU(A)\n",
    "\n",
    "    #Uso la matriz identidad_n (I) para tener los vectores e_i\n",
    "    I = np.eye(n)\n",
    "\n",
    "    #Armo una matriz llena de 0's, para luego agregarle las columnas correspondientes\n",
    "    B = np.zeros_like(A)\n",
    "\n",
    "    # 1 Uso un ciclo for para obtener las soluciones al sistema Ax = e_i con 1 <= i <=n\n",
    "    # 2 Cada e_i es extraido de las filas de la matriz I\n",
    "    # 3 Resuelvo el sistema Ly = e_i\n",
    "    # 4 Resuelvo el sistema Ux = y\n",
    "    # 5 Asigno la columna (x) al lugar donde corresponde en B\n",
    "    for i in range(n): # --> 1\n",
    "        e_i = I[i,:] # --> 2\n",
    "        y = sp.linalg.solve_triangular(L, e_i) # --> 3\n",
    "        x = sp.linalg.solve_triangular(U, y) # --> 4\n",
    "        B[:,i] = x # --> 5\n",
    "\n",
    "    #terminadas las iteraciones tengo que B es la matriz inversa de A\n",
    "    return B\n",
    "        \n"
   ]
  },
  {
   "cell_type": "code",
   "execution_count": 14,
   "metadata": {},
   "outputs": [
    {
     "name": "stdout",
     "output_type": "stream",
     "text": [
      "[[ 0  0  0  0]\n",
      " [ 0  0  0 -1]\n",
      " [ 0  0  1  2]\n",
      " [ 0  0  0 -1]]\n"
     ]
    }
   ],
   "source": [
    "# Ejemplo de uso\n",
    "A = np.array([[4, 3, 2, 1],\n",
    "              [2, 9, 7, 5],\n",
    "              [4, 7, 7, 8],\n",
    "              [6, 9, 8, 9]])\n",
    "\n",
    "B = inversa(A)\n",
    "print(B)"
   ]
  }
 ],
 "metadata": {
  "kernelspec": {
   "display_name": "venv",
   "language": "python",
   "name": "python3"
  },
  "language_info": {
   "codemirror_mode": {
    "name": "ipython",
    "version": 3
   },
   "file_extension": ".py",
   "mimetype": "text/x-python",
   "name": "python",
   "nbconvert_exporter": "python",
   "pygments_lexer": "ipython3",
   "version": "3.11.0"
  },
  "orig_nbformat": 4
 },
 "nbformat": 4,
 "nbformat_minor": 2
}
