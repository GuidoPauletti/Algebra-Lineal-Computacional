{
 "cells": [
  {
   "cell_type": "markdown",
   "metadata": {},
   "source": [
    "# **Trabajo Practico Numero 1**"
   ]
  },
  {
   "cell_type": "markdown",
   "metadata": {},
   "source": [
    "**Antes que nada**:</br> $para$ $todos$ $los$ $ejercicios$ $seran$ $necesarias$ $las$ $librerias$ **numpy** $y$ **matplotlib**, </br>$por$ $lo$ $tanto$, $las$ $importamos$"
   ]
  },
  {
   "cell_type": "code",
   "execution_count": 8,
   "metadata": {},
   "outputs": [],
   "source": [
    "import numpy as np\n",
    "import matplotlib as plt\n",
    "import scipy as sp"
   ]
  },
  {
   "cell_type": "markdown",
   "metadata": {},
   "source": [
    "## Ejercicio 1"
   ]
  },
  {
   "cell_type": "code",
   "execution_count": 9,
   "metadata": {},
   "outputs": [],
   "source": [
    "def descompLU(A):\n",
    "    '''\n",
    "    Parametro: matriz A perteneciente a R^n*n.\n",
    "    Retorna: Las dos matrices de descomposicion LU = A\n",
    "    '''\n",
    "\n",
    "    #Guardamos el numero de filas de A en una variable n\n",
    "    #Obs: n tambien es el numero de columnas, pues A es cuadrada\n",
    "    n = A.shape[0] \n",
    "\n",
    "    #¿Tiene algun 0 en la diagonal?\n",
    "    if not np.diag(A).all():\n",
    "        print('Error: Hay por lo menos un cero en la diagonal')\n",
    "        identidad = np.eye(n)\n",
    "        return (identidad,A)\n",
    "\n",
    "    #Caso base: n = 1:\n",
    "    if n == 1:\n",
    "        # A = 1 * A = L * U\n",
    "        L_22 = 1\n",
    "        U_22 = A[0,0]\n",
    "        return (L_22, U_22)\n",
    "\n",
    "    #Definimos las variables que vamos a usar para calcular L y U\n",
    "    a_11 = A[0,0] # es un escalar, elemento de la primera fila y primera columna de A\n",
    "    A_12 = A[0,1:] # vector fila con n - 1 elementos (1ra fila de A - a_11)\n",
    "    A_21 = A[1:,0] # vector columna con n - 1 elementos (1ra col de A - a_11)\n",
    "    A_22 = A[1:,1:] # matriz menor de A, resultado te quietarle la 1ra fila y columna\n",
    "\n",
    "    #Con estas variables definidas es facil obtener u_11, U_12 y L_21\n",
    "    #usando las escuaciones dadas en la consigna:\n",
    "    u_11 = a_11.copy()\n",
    "    U_12 = A_12.copy()\n",
    "    L_21 = A_21 / u_11\n",
    "\n",
    "    #Ahora hacemos el llamado recursivo sobre el producto L_22*U_22\n",
    "    #Vamos obteniendo la descomposicion de A_22 - L_21*U_12\n",
    "    #Hasta que llegamos al caso base donde la matriz es de 1*1\n",
    "    L_22, U_22 = descompLU(A_22 - L_21@U_12)\n",
    "\n",
    "    #Armo las matrices finales:\n",
    "    L = np.eye(n,k=0) #matriz n*n con 1's en la diagonal\n",
    "    L[1:, 0] = L_21 #le agrego el vector columna\n",
    "    L[1:,1:] = L_22 #le agrego el bloque obtenido con los llamados recursivos\n",
    "\n",
    "    U = np.zeros_like(L) #matriz n*n con todos 0´s, uso el shape de L para referencia\n",
    "    U[0,0] = u_11 #agrego el primero elemento en la matriz\n",
    "    U[0,1:] = U_12 #agrego el vector fila\n",
    "    U[1:,1:] = U_22 #le agrego el bloque obtenido con los llamados recursivos\n",
    "    \n",
    "    return (L,U)"
   ]
  },
  {
   "cell_type": "code",
   "execution_count": 10,
   "metadata": {},
   "outputs": [
    {
     "name": "stdout",
     "output_type": "stream",
     "text": [
      "Matriz L:\n",
      "[[1.  0.  0.  0. ]\n",
      " [0.5 1.  0.  0. ]\n",
      " [1.  0.5 1.  0. ]\n",
      " [1.5 1.  2.  1. ]]\n",
      "\n",
      "Matriz U:\n",
      "[[ 4.  3.  2.  1.]\n",
      " [ 0.  4.  2.  0.]\n",
      " [ 0.  0.  1.  2.]\n",
      " [ 0.  0.  0. -1.]]\n",
      "\n",
      "Matriz L*U:\n",
      " [[4.  3.  2.  1. ]\n",
      " [2.  5.5 3.  0.5]\n",
      " [4.  5.  4.  3. ]\n",
      " [6.  8.5 7.  4.5]]\n"
     ]
    }
   ],
   "source": [
    "# Ejemplo de uso\n",
    "A = np.array([[4, 3, 2, 1],\n",
    "              [2, 9, 7, 5],\n",
    "              [4, 7, 7, 8],\n",
    "              [6, 9, 8, 9]])\n",
    "\n",
    "\n",
    "L, U = descompLU(A)\n",
    "print(\"Matriz L:\")\n",
    "print(L)\n",
    "print(\"\\nMatriz U:\")\n",
    "print(U)\n",
    "\n",
    "print(\"\\nMatriz L*U:\\n\", np.dot(L,U))"
   ]
  },
  {
   "cell_type": "markdown",
   "metadata": {},
   "source": [
    "## Ejercicio 3"
   ]
  },
  {
   "cell_type": "code",
   "execution_count": 11,
   "metadata": {},
   "outputs": [],
   "source": [
    "def resolverLU(A, b):\n",
    "    '''\n",
    "    Parametros:\n",
    "        *matriz A n*n\n",
    "        *vector b de n elementos\n",
    "    Retorna:\n",
    "        *x vector solucion de la ecuación Ax = b\n",
    "    '''\n",
    "\n",
    "    #Obtenemos L y U haciendo uso del ejercicio 1\n",
    "    L, U = descompLU(A)\n",
    "\n",
    "    #Resuelvo la ecuacion Ly = b especificada en la consigna\n",
    "    y = sp.linalg.solve_triangular(L, b)\n",
    "\n",
    "    #Con (y) puedo obtener la solucion a la ecuación Ux = y\n",
    "    x = sp.linalg.solve_triangular(U, y)\n",
    "\n",
    "    return x\n"
   ]
  },
  {
   "cell_type": "code",
   "execution_count": 12,
   "metadata": {},
   "outputs": [
    {
     "name": "stdout",
     "output_type": "stream",
     "text": [
      "[ -0.625 -10.5    23.     -8.   ]\n"
     ]
    }
   ],
   "source": [
    "# Ejemplo de uso\n",
    "A = np.array([[4, 3, 2, 1],\n",
    "              [2, 9, 7, 5],\n",
    "              [4, 7, 7, 8],\n",
    "              [6, 9, 8, 9]])\n",
    "\n",
    "b = np.array([4,4,7,8])\n",
    "\n",
    "x = resolverLU(A, b)\n",
    "print(x)"
   ]
  }
 ],
 "metadata": {
  "kernelspec": {
   "display_name": "venv",
   "language": "python",
   "name": "python3"
  },
  "language_info": {
   "codemirror_mode": {
    "name": "ipython",
    "version": 3
   },
   "file_extension": ".py",
   "mimetype": "text/x-python",
   "name": "python",
   "nbconvert_exporter": "python",
   "pygments_lexer": "ipython3",
   "version": "3.11.0"
  },
  "orig_nbformat": 4
 },
 "nbformat": 4,
 "nbformat_minor": 2
}
